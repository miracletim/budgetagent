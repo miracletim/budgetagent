{
  "nbformat": 4,
  "nbformat_minor": 0,
  "metadata": {
    "colab": {
      "machine_shape": "hm",
      "gpuType": "T4",
      "provenance": [],
      "include_colab_link": true
    },
    "accelerator": "GPU",
    "kaggle": {
      "accelerator": "gpu"
    },
    "language_info": {
      "name": "python"
    },
    "kernelspec": {
      "name": "python3",
      "display_name": "Python 3"
    }
  },
  "cells": [
    {
      "cell_type": "markdown",
      "metadata": {
        "id": "view-in-github",
        "colab_type": "text"
      },
      "source": [
        "<a href=\"https://colab.research.google.com/github/miracletim/budgetagent/blob/main/bert_tiny_en_uncased.ipynb\" target=\"_parent\"><img src=\"https://colab.research.google.com/assets/colab-badge.svg\" alt=\"Open In Colab\"/></a>"
      ]
    },
    {
      "cell_type": "markdown",
      "source": [
        "## Local Inference on GPU\n",
        "Model page: https://huggingface.co/keras/bert_tiny_en_uncased\n",
        "\n",
        "⚠️ If the generated code snippets do not work, please open an issue on either the [model repo](https://huggingface.co/keras/bert_tiny_en_uncased)\n",
        "\t\t\tand/or on [huggingface.js](https://github.com/huggingface/huggingface.js/blob/main/packages/tasks/src/model-libraries-snippets.ts) 🙏"
      ],
      "metadata": {
        "id": "L2m1XRanGXwo"
      }
    },
    {
      "cell_type": "code",
      "source": [
        "\n",
        "import keras_hub\n",
        "\n",
        "# Load TextClassifier model\n",
        "text_classifier = keras_hub.models.TextClassifier.from_preset(\n",
        "    \"hf://keras/bert_tiny_en_uncased\",\n",
        "    num_classes=2,\n",
        ")\n",
        "# Fine-tune\n",
        "text_classifier.fit(x=[\"Thilling adventure!\", \"Total snoozefest.\"], y=[1, 0])\n",
        "# Classify text\n",
        "text_classifier.predict([\"Not my cup of tea.\"])\n"
      ],
      "metadata": {
        "id": "WkHD60eyGXwr"
      },
      "execution_count": null,
      "outputs": []
    },
    {
      "cell_type": "code",
      "source": [
        "\n",
        "import keras_hub\n",
        "\n",
        "# Create a MaskedLM model\n",
        "task = keras_hub.models.MaskedLM.from_preset(\"hf://keras/bert_tiny_en_uncased\")\n"
      ],
      "metadata": {
        "id": "ZZ1XHpngGXws"
      },
      "execution_count": null,
      "outputs": []
    },
    {
      "cell_type": "code",
      "source": [
        "\n",
        "import keras_hub\n",
        "\n",
        "# Create a Backbone model unspecialized for any task\n",
        "backbone = keras_hub.models.Backbone.from_preset(\"hf://keras/bert_tiny_en_uncased\")\n"
      ],
      "metadata": {
        "id": "5YvW1fyvGXws"
      },
      "execution_count": null,
      "outputs": []
    }
  ]
}